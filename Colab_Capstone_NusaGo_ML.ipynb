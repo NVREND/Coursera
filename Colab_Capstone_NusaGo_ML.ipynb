{
  "nbformat": 4,
  "nbformat_minor": 0,
  "metadata": {
    "colab": {
      "provenance": [],
      "include_colab_link": true
    },
    "kernelspec": {
      "name": "python3",
      "display_name": "Python 3"
    },
    "language_info": {
      "name": "python"
    }
  },
  "cells": [
    {
      "cell_type": "markdown",
      "metadata": {
        "id": "view-in-github",
        "colab_type": "text"
      },
      "source": [
        "<a href=\"https://colab.research.google.com/github/NVREND/Coursera/blob/main/Colab_Capstone_NusaGo_ML.ipynb\" target=\"_parent\"><img src=\"https://colab.research.google.com/assets/colab-badge.svg\" alt=\"Open In Colab\"/></a>"
      ]
    },
    {
      "cell_type": "code",
      "source": [
        "!pip install -q tensorflow-recommenders"
      ],
      "metadata": {
        "id": "7t8eYUutLWg2",
        "colab": {
          "base_uri": "https://localhost:8080/"
        },
        "outputId": "aba0a655-1423-457e-daeb-ce4a1a1290b0"
      },
      "execution_count": null,
      "outputs": [
        {
          "output_type": "stream",
          "name": "stdout",
          "text": [
            "\u001b[?25l     \u001b[90m━━━━━━━━━━━━━━━━━━━━━━━━━━━━━━━━━━━━━━━━\u001b[0m \u001b[32m0.0/96.2 kB\u001b[0m \u001b[31m?\u001b[0m eta \u001b[36m-:--:--\u001b[0m\r\u001b[2K     \u001b[91m━━━━━━━━━━━━━━━━━━━━━━━━━━━━━━━━━━━━━━\u001b[0m\u001b[90m╺\u001b[0m\u001b[90m━\u001b[0m \u001b[32m92.2/96.2 kB\u001b[0m \u001b[31m2.7 MB/s\u001b[0m eta \u001b[36m0:00:01\u001b[0m\r\u001b[2K     \u001b[90m━━━━━━━━━━━━━━━━━━━━━━━━━━━━━━━━━━━━━━━━\u001b[0m \u001b[32m96.2/96.2 kB\u001b[0m \u001b[31m2.2 MB/s\u001b[0m eta \u001b[36m0:00:00\u001b[0m\n",
            "\u001b[?25h"
          ]
        }
      ]
    },
    {
      "cell_type": "code",
      "execution_count": null,
      "metadata": {
        "id": "76WiiA2aYkIC"
      },
      "outputs": [],
      "source": [
        "import numpy as np\n",
        "import pandas as pd\n",
        "import tensorflow as tf\n",
        "from sklearn.model_selection import train_test_split\n",
        "import tensorflow_recommenders as tfrs\n",
        "from typing import Dict, Text"
      ]
    },
    {
      "cell_type": "code",
      "source": [
        "# Import PyDrive and associated libraries.\n",
        "# This only needs to be done once per notebook.\n",
        "from pydrive.auth import GoogleAuth\n",
        "from pydrive.drive import GoogleDrive\n",
        "from google.colab import drive\n",
        "from google.colab import auth\n",
        "from oauth2client.client import GoogleCredentials\n",
        "\n",
        "# Authenticate and create the PyDrive client.\n",
        "# This only needs to be done once per notebook.\n",
        "auth.authenticate_user()\n",
        "gauth = GoogleAuth()\n",
        "gauth.credentials = GoogleCredentials.get_application_default()\n",
        "drive = GoogleDrive(gauth)\n",
        "\n",
        "# Download a file based on its file ID.\n",
        "#\n",
        "# A file ID looks like: laggVyWshwcyP6kEI-y_W3P8D26sz\n",
        "file_id_1 = '1kFmj22am8p8_PkXpZjiZeLrIc_2V4hmX'\n",
        "download_1 = drive.CreateFile({'id': file_id_1})\n",
        "download_1.GetContentFile('tourism_with_id.csv')\n",
        "\n",
        "file_id_2 = '1hzr76LlqTeCziP34GAA57uQheva6Md7v'\n",
        "download_2 = drive.CreateFile({'id': file_id_2})\n",
        "download_2.GetContentFile('user.csv')\n",
        "\n",
        "file_id_3 = '1kGo_JryF9qfcV_zeSmA6MNq5vQPDqtLC'\n",
        "download_3 = drive.CreateFile({'id': file_id_3})\n",
        "download_3.GetContentFile('tourism_rating.csv')\n",
        "\n",
        "# Load data\n",
        "rating = pd.read_csv(\"tourism_with_id.csv\")\n",
        "place = pd.read_csv(\"tourism_rating.csv\")\n",
        "user = pd.read_csv(\"user.csv\")\n"
      ],
      "metadata": {
        "id": "2gAcDvNwmKvC",
        "colab": {
          "base_uri": "https://localhost:8080/"
        },
        "outputId": "c80842b6-e418-4bce-aa1f-4d225db53232"
      },
      "execution_count": null,
      "outputs": [
        {
          "output_type": "stream",
          "name": "stderr",
          "text": [
            "WARNING:root:pydrive is deprecated and no longer maintained. We recommend that you migrate your projects to pydrive2, the maintained fork of pydrive\n"
          ]
        }
      ]
    },
    {
      "cell_type": "code",
      "source": [
        "# Drop unnecessary columns\n",
        "place = place.drop([\"Unnamed: 11\", \"Unnamed: 12\", \"Time_Minutes\"], axis=1)"
      ],
      "metadata": {
        "id": "8vPirml4ARnd"
      },
      "execution_count": null,
      "outputs": []
    },
    {
      "cell_type": "code",
      "source": [
        "# Merge dataframes\n",
        "merged_df = pd.merge(rating, place, how=\"outer\", on=\"Place_Id\")\n",
        "merged_df = pd.merge(merged_df, user, how=\"outer\", on=\"User_Id\")\n",
        "\n",
        "# Convert \"User_Id\" and \"Place_Id\" to strings\n",
        "merged_df[\"User_Id\"] = merged_df[\"User_Id\"].astype(str)\n",
        "merged_df[\"Place_Id\"] = merged_df[\"Place_Id\"].astype(str)\n",
        "merged_df[\"Place_Name\"] = merged_df[\"Place_Name\"].astype(str)\n",
        "\n",
        "# Split the data\n",
        "training_size = 0.8\n",
        "rating_merge_place = merged_df.sample(frac=1).reset_index(drop=True)\n",
        "train_df, test_df = train_test_split(rating_merge_place, test_size=1 - training_size)"
      ],
      "metadata": {
        "id": "dBHWRZu-ATqk"
      },
      "execution_count": null,
      "outputs": []
    },
    {
      "cell_type": "code",
      "source": [
        "# Define the model\n",
        "embedding_dimension = 32\n",
        "user_model = tf.keras.Sequential(\n",
        "    [\n",
        "        tf.keras.layers.StringLookup(\n",
        "            vocabulary=merged_df[\"User_Id\"].unique(),\n",
        "            mask_token=None,\n",
        "            name=\"user_id_lookup\",\n",
        "        ),\n",
        "        tf.keras.layers.Embedding(\n",
        "            input_dim=len(merged_df[\"User_Id\"].unique()) + 1,\n",
        "            output_dim=embedding_dimension,\n",
        "            name=\"user_embedding\",\n",
        "        ),\n",
        "    ]\n",
        ")\n",
        "\n",
        "place_model = tf.keras.Sequential(\n",
        "    [\n",
        "        tf.keras.layers.StringLookup(\n",
        "            vocabulary=merged_df[\"Place_Name\"].unique(),\n",
        "            mask_token=None,\n",
        "            name=\"Place_Name_lookup\",\n",
        "        ),\n",
        "        tf.keras.layers.Embedding(\n",
        "            input_dim=len(merged_df[\"Place_Name\"].unique()) + 1,\n",
        "            output_dim=embedding_dimension,\n",
        "            name=\"place_embedding\",\n",
        "        ),\n",
        "    ]\n",
        ")\n",
        "\n",
        "# Define the task\n",
        "task = tfrs.tasks.Ranking(\n",
        "    loss=tf.keras.losses.MeanSquaredError(),\n",
        "    metrics=[tf.keras.metrics.RootMeanSquaredError()],\n",
        ")\n",
        "\n",
        "\n",
        "# Build the model\n",
        "class RecommenderModel(tfrs.Model):\n",
        "    def __init__(self, user_model, place_model, task):\n",
        "        super().__init__()\n",
        "        self.place_model: tf.keras.Model = place_model\n",
        "        self.user_model: tf.keras.Model = user_model\n",
        "        self.task: tf.keras.layers.Layer = task\n",
        "\n",
        "    def compute_loss(\n",
        "        self, features: Dict[Text, tf.Tensor], training=False\n",
        "    ) -> tf.Tensor:\n",
        "        user_embeddings = self.user_model(features[\"User_Id\"])\n",
        "        positive_place_embeddings = self.place_model(features[\"Place_Name\"])\n",
        "        return self.task(user_embeddings, positive_place_embeddings)\n",
        "\n",
        "\n",
        "# Create the model instance\n",
        "model = RecommenderModel(user_model, place_model, task)\n",
        "\n",
        "# Compile the model\n",
        "model.compile(optimizer=tf.keras.optimizers.Adagrad(learning_rate=0.1))\n",
        "\n",
        "# Create input pipelines\n",
        "train_batch_size = 64\n",
        "train_data = tf.data.Dataset.from_tensor_slices(dict(train_df))\n",
        "train_data = train_data.batch(train_batch_size)\n",
        "\n",
        "test_data = tf.data.Dataset.from_tensor_slices(dict(test_df))\n",
        "test_data = test_data.batch(train_batch_size)\n",
        "\n",
        "# Train the model\n",
        "model.fit(train_data, epochs=10)\n",
        "\n",
        "# Evaluate the model\n",
        "model.evaluate(test_data)"
      ],
      "metadata": {
        "id": "VyjI3Pnr50Gi",
        "outputId": "b3d49d3f-f22e-48f8-b75a-ced0c46ef212",
        "colab": {
          "base_uri": "https://localhost:8080/"
        }
      },
      "execution_count": null,
      "outputs": [
        {
          "output_type": "stream",
          "name": "stdout",
          "text": [
            "Epoch 1/10\n",
            "125/125 [==============================] - 1s 2ms/step - root_mean_squared_error: 0.0407 - loss: 0.0017 - regularization_loss: 0.0000e+00 - total_loss: 0.0017\n",
            "Epoch 2/10\n",
            "125/125 [==============================] - 0s 2ms/step - root_mean_squared_error: 0.0404 - loss: 0.0016 - regularization_loss: 0.0000e+00 - total_loss: 0.0016\n",
            "Epoch 3/10\n",
            "125/125 [==============================] - 0s 2ms/step - root_mean_squared_error: 0.0401 - loss: 0.0016 - regularization_loss: 0.0000e+00 - total_loss: 0.0016\n",
            "Epoch 4/10\n",
            "125/125 [==============================] - 0s 3ms/step - root_mean_squared_error: 0.0398 - loss: 0.0016 - regularization_loss: 0.0000e+00 - total_loss: 0.0016\n",
            "Epoch 5/10\n",
            "125/125 [==============================] - 0s 4ms/step - root_mean_squared_error: 0.0395 - loss: 0.0016 - regularization_loss: 0.0000e+00 - total_loss: 0.0016\n",
            "Epoch 6/10\n",
            "125/125 [==============================] - 0s 3ms/step - root_mean_squared_error: 0.0392 - loss: 0.0015 - regularization_loss: 0.0000e+00 - total_loss: 0.0015\n",
            "Epoch 7/10\n",
            "125/125 [==============================] - 0s 4ms/step - root_mean_squared_error: 0.0389 - loss: 0.0015 - regularization_loss: 0.0000e+00 - total_loss: 0.0015\n",
            "Epoch 8/10\n",
            "125/125 [==============================] - 0s 4ms/step - root_mean_squared_error: 0.0386 - loss: 0.0015 - regularization_loss: 0.0000e+00 - total_loss: 0.0015\n",
            "Epoch 9/10\n",
            "125/125 [==============================] - 0s 3ms/step - root_mean_squared_error: 0.0383 - loss: 0.0015 - regularization_loss: 0.0000e+00 - total_loss: 0.0015\n",
            "Epoch 10/10\n",
            "125/125 [==============================] - 0s 4ms/step - root_mean_squared_error: 0.0380 - loss: 0.0014 - regularization_loss: 0.0000e+00 - total_loss: 0.0014\n",
            "32/32 [==============================] - 0s 3ms/step - root_mean_squared_error: 0.0380 - loss: 0.0014 - regularization_loss: 0.0000e+00 - total_loss: 0.0014\n"
          ]
        },
        {
          "output_type": "execute_result",
          "data": {
            "text/plain": [
              "[0.03800969198346138, 0.001397767337039113, 0, 0.001397767337039113]"
            ]
          },
          "metadata": {},
          "execution_count": 10
        }
      ]
    },
    {
      "cell_type": "code",
      "source": [
        "model.save('model.h5')"
      ],
      "metadata": {
        "id": "y9kXIjxgCg7f"
      },
      "execution_count": null,
      "outputs": []
    },
    {
      "cell_type": "code",
      "source": [
        "# Make recommendations\n",
        "user_ids = merged_df[\"User_Id\"].unique()\n",
        "for user_id in user_ids[:5]:  # Make recommendations for the first 5 users\n",
        "    user_id_str = str(user_id)  # Convert user ID to string\n",
        "    user_id = np.array([[user_id_str]])\n",
        "\n",
        "    # Ensure the dtype is consistent with the StringLookup layer\n",
        "    user_id = tf.convert_to_tensor(user_id, dtype=tf.string)\n",
        "\n",
        "    user_embeddings = model.user_model(user_id)\n",
        "\n",
        "    # Convert embeddings to string dtype to match the StringLookup layer in the recommendation model\n",
        "    user_embeddings_str = tf.strings.as_string(user_embeddings)\n",
        "\n",
        "    recommended_place_ids = model.place_model.predict(user_embeddings_str)\n",
        "    print(f\"Recommendations for User {user_id_str}: {recommended_place_ids.flatten()}\")"
      ],
      "metadata": {
        "colab": {
          "base_uri": "https://localhost:8080/"
        },
        "id": "mrYq49xpMJlo",
        "outputId": "f1314d49-0321-4ee5-a1ab-5e2de24a6f03"
      },
      "execution_count": null,
      "outputs": [
        {
          "output_type": "stream",
          "name": "stdout",
          "text": [
            "1/1 [==============================] - 0s 74ms/step\n",
            "Recommendations for User 1: [-0.00042299  0.04967078  0.03912396 ... -0.03964134 -0.02665569\n",
            "  0.04725445]\n",
            "1/1 [==============================] - 0s 26ms/step\n",
            "Recommendations for User 22: [-0.00042299  0.04967078  0.03912396 ... -0.03964134 -0.02665569\n",
            "  0.04725445]\n",
            "1/1 [==============================] - 0s 19ms/step\n",
            "Recommendations for User 40: [-0.00042299  0.04967078  0.03912396 ... -0.03964134 -0.02665569\n",
            "  0.04725445]\n",
            "1/1 [==============================] - 0s 21ms/step\n",
            "Recommendations for User 49: [-0.00042299  0.04967078  0.03912396 ... -0.03964134 -0.02665569\n",
            "  0.04725445]\n",
            "1/1 [==============================] - 0s 24ms/step\n",
            "Recommendations for User 74: [-0.00042299  0.04967078  0.03912396 ... -0.03964134 -0.02665569\n",
            "  0.04725445]\n"
          ]
        }
      ]
    }
  ]
}