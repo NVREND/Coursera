{
  "nbformat": 4,
  "nbformat_minor": 0,
  "metadata": {
    "colab": {
      "provenance": [],
      "include_colab_link": true
    },
    "kernelspec": {
      "name": "python3",
      "display_name": "Python 3"
    },
    "language_info": {
      "name": "python"
    }
  },
  "cells": [
    {
      "cell_type": "markdown",
      "metadata": {
        "id": "view-in-github",
        "colab_type": "text"
      },
      "source": [
        "<a href=\"https://colab.research.google.com/github/NVREND/Coursera/blob/main/Capstone_NusaGo_ML.ipynb\" target=\"_parent\"><img src=\"https://colab.research.google.com/assets/colab-badge.svg\" alt=\"Open In Colab\"/></a>"
      ]
    },
    {
      "cell_type": "code",
      "source": [
        "!pip install -q tensorflow-recommenders"
      ],
      "metadata": {
        "id": "7t8eYUutLWg2"
      },
      "execution_count": null,
      "outputs": []
    },
    {
      "cell_type": "code",
      "execution_count": null,
      "metadata": {
        "id": "76WiiA2aYkIC"
      },
      "outputs": [],
      "source": [
        "import numpy as np\n",
        "import pandas as pd\n",
        "import tensorflow as tf\n",
        "from sklearn.model_selection import train_test_split\n",
        "import tensorflow_recommenders as tfrs\n",
        "from typing import Dict, Text"
      ]
    },
    {
      "cell_type": "code",
      "source": [
        "# Import PyDrive and associated libraries.\n",
        "# This only needs to be done once per notebook.\n",
        "from pydrive.auth import GoogleAuth\n",
        "from pydrive.drive import GoogleDrive\n",
        "from google.colab import drive\n",
        "from google.colab import auth\n",
        "from oauth2client.client import GoogleCredentials\n",
        "\n",
        "# Authenticate and create the PyDrive client.\n",
        "# This only needs to be done once per notebook.\n",
        "auth.authenticate_user()\n",
        "gauth = GoogleAuth()\n",
        "gauth.credentials = GoogleCredentials.get_application_default()\n",
        "drive = GoogleDrive(gauth)\n",
        "\n",
        "# Download a file based on its file ID.\n",
        "#\n",
        "# A file ID looks like: laggVyWshwcyP6kEI-y_W3P8D26sz\n",
        "file_id_1 = '1kFmj22am8p8_PkXpZjiZeLrIc_2V4hmX'\n",
        "download_1 = drive.CreateFile({'id': file_id_1})\n",
        "download_1.GetContentFile('tourism_with_id.csv')\n",
        "\n",
        "file_id_2 = '1hzr76LlqTeCziP34GAA57uQheva6Md7v'\n",
        "download_2 = drive.CreateFile({'id': file_id_2})\n",
        "download_2.GetContentFile('user.csv')\n",
        "\n",
        "file_id_3 = '1kGo_JryF9qfcV_zeSmA6MNq5vQPDqtLC'\n",
        "download_3 = drive.CreateFile({'id': file_id_3})\n",
        "download_3.GetContentFile('tourism_rating.csv')\n",
        "\n",
        "# Load data\n",
        "rating = pd.read_csv(\"tourism_with_id.csv\")\n",
        "place = pd.read_csv(\"tourism_rating.csv\")\n",
        "user = pd.read_csv(\"user.csv\")\n"
      ],
      "metadata": {
        "id": "2gAcDvNwmKvC"
      },
      "execution_count": null,
      "outputs": []
    },
    {
      "cell_type": "code",
      "source": [
        "# Drop unnecessary columns\n",
        "place = place.drop([\"Unnamed: 11\", \"Unnamed: 12\", \"Time_Minutes\"], axis=1)"
      ],
      "metadata": {
        "id": "8vPirml4ARnd"
      },
      "execution_count": null,
      "outputs": []
    },
    {
      "cell_type": "code",
      "source": [
        "# Merge dataframes\n",
        "merged_df = pd.merge(rating, place, how=\"outer\", on=\"Place_Id\")\n",
        "merged_df = pd.merge(merged_df, user, how=\"outer\", on=\"User_Id\")\n",
        "\n",
        "# Convert \"User_Id\" and \"Place_Id\" to strings\n",
        "merged_df[\"User_Id\"] = merged_df[\"User_Id\"].astype(str)\n",
        "merged_df[\"Place_Id\"] = merged_df[\"Place_Id\"].astype(str)\n",
        "\n",
        "# Split the data\n",
        "training_size = 0.8\n",
        "rating_merge_place = merged_df.sample(frac=1).reset_index(drop=True)\n",
        "train_df, test_df = train_test_split(rating_merge_place, test_size=1 - training_size)"
      ],
      "metadata": {
        "id": "dBHWRZu-ATqk"
      },
      "execution_count": null,
      "outputs": []
    },
    {
      "cell_type": "code",
      "source": [
        "# Define the model\n",
        "embedding_dimension = 32\n",
        "user_model = tf.keras.Sequential(\n",
        "    [\n",
        "        tf.keras.layers.StringLookup(\n",
        "            vocabulary=merged_df[\"User_Id\"].unique(),\n",
        "            mask_token=None,\n",
        "            name=\"user_id_lookup\",\n",
        "        ),\n",
        "        tf.keras.layers.Embedding(\n",
        "            input_dim=len(merged_df[\"User_Id\"].unique()) + 1,\n",
        "            output_dim=embedding_dimension,\n",
        "            name=\"user_embedding\",\n",
        "        ),\n",
        "    ]\n",
        ")\n",
        "\n",
        "place_model = tf.keras.Sequential(\n",
        "    [\n",
        "        tf.keras.layers.StringLookup(\n",
        "            vocabulary=merged_df[\"Place_Name\"].unique(),\n",
        "            mask_token=None,\n",
        "            name=\"place_Name_lookup\",\n",
        "        ),\n",
        "        tf.keras.layers.Embedding(\n",
        "            input_dim=len(merged_df[\"Place_Name\"].unique()) + 1,\n",
        "            output_dim=embedding_dimension,\n",
        "            name=\"place_embedding\",\n",
        "        ),\n",
        "    ]\n",
        ")\n",
        "\n",
        "# Define the task\n",
        "task = tfrs.tasks.Ranking(\n",
        "    loss=tf.keras.losses.MeanSquaredError(),\n",
        "    metrics=[tf.keras.metrics.RootMeanSquaredError()],\n",
        ")\n",
        "\n",
        "\n",
        "# Build the model\n",
        "class RecommenderModel(tfrs.Model):\n",
        "    def __init__(self, user_model, place_model, task):\n",
        "        super().__init__()\n",
        "        self.place_model: tf.keras.Model = place_model\n",
        "        self.user_model: tf.keras.Model = user_model\n",
        "        self.task: tf.keras.layers.Layer = task\n",
        "\n",
        "    def compute_loss(\n",
        "        self, features: Dict[Text, tf.Tensor], training=False\n",
        "    ) -> tf.Tensor:\n",
        "        user_embeddings = self.user_model(features[\"User_Id\"])\n",
        "        positive_place_embeddings = self.place_model(features[\"Place_Name\"])\n",
        "        return self.task(user_embeddings, positive_place_embeddings)\n",
        "\n",
        "\n",
        "# Create the model instance\n",
        "model = RecommenderModel(user_model, place_model, task)\n",
        "\n",
        "# Compile the model\n",
        "model.compile(optimizer=tf.keras.optimizers.Adagrad(learning_rate=0.1))\n",
        "\n",
        "# Create input pipelines\n",
        "train_batch_size = 64\n",
        "train_data = tf.data.Dataset.from_tensor_slices(dict(train_df))\n",
        "train_data = train_data.batch(train_batch_size)\n",
        "\n",
        "test_data = tf.data.Dataset.from_tensor_slices(dict(test_df))\n",
        "test_data = test_data.batch(train_batch_size)\n",
        "\n",
        "# Train the model\n",
        "model.fit(train_data, epochs=5)\n",
        "\n",
        "# Evaluate the model\n",
        "model.evaluate(test_data)"
      ],
      "metadata": {
        "id": "VyjI3Pnr50Gi",
        "outputId": "321df6a0-e780-4df4-bf4d-a13ae9749090",
        "colab": {
          "base_uri": "https://localhost:8080/"
        }
      },
      "execution_count": null,
      "outputs": [
        {
          "output_type": "stream",
          "name": "stdout",
          "text": [
            "Epoch 1/5\n",
            "125/125 [==============================] - 1s 2ms/step - root_mean_squared_error: 0.0408 - loss: 0.0017 - regularization_loss: 0.0000e+00 - total_loss: 0.0017\n",
            "Epoch 2/5\n",
            "125/125 [==============================] - 0s 2ms/step - root_mean_squared_error: 0.0405 - loss: 0.0016 - regularization_loss: 0.0000e+00 - total_loss: 0.0016\n",
            "Epoch 3/5\n",
            "125/125 [==============================] - 0s 2ms/step - root_mean_squared_error: 0.0402 - loss: 0.0016 - regularization_loss: 0.0000e+00 - total_loss: 0.0016\n",
            "Epoch 4/5\n",
            "125/125 [==============================] - 0s 2ms/step - root_mean_squared_error: 0.0399 - loss: 0.0016 - regularization_loss: 0.0000e+00 - total_loss: 0.0016\n",
            "Epoch 5/5\n",
            "125/125 [==============================] - 0s 4ms/step - root_mean_squared_error: 0.0396 - loss: 0.0016 - regularization_loss: 0.0000e+00 - total_loss: 0.0016\n",
            "32/32 [==============================] - 0s 2ms/step - root_mean_squared_error: 0.0395 - loss: 0.0016 - regularization_loss: 0.0000e+00 - total_loss: 0.0016\n"
          ]
        },
        {
          "output_type": "execute_result",
          "data": {
            "text/plain": [
              "[0.03951350599527359, 0.0016248244792222977, 0, 0.0016248244792222977]"
            ]
          },
          "metadata": {},
          "execution_count": 10
        }
      ]
    },
    {
      "cell_type": "code",
      "source": [
        "# Fungsi untuk mendapatkan rekomendasi tempat berdasarkan ID pengguna dan kategori\n",
        "def get_place_recommendations(user_id, selected_category, k=5):\n",
        "    # Ambil embedding dari model user untuk ID pengguna tertentu\n",
        "    user_embedding = model.user_model(tf.constant([user_id]))\n",
        "\n",
        "    # Ambil nama tempat unik dari dataframe tempat berdasarkan kategori yang dipilih\n",
        "    places_in_category = merged_df[merged_df[\"Category\"] == selected_category]\n",
        "    unique_place_names = places_in_category[\"Place_Name\"].unique()\n",
        "\n",
        "    # Konversi nama tempat menjadi indeks menggunakan layer StringLookup\n",
        "    place_indices = model.place_model.layers[0](tf.constant(unique_place_names))\n",
        "\n",
        "    # Ambil embedding dari model tempat untuk semua tempat\n",
        "    all_place_embeddings = model.place_model.layers[1](place_indices)\n",
        "\n",
        "    # Hitung kesamaan (similarity) antara embedding pengguna dan embedding tempat\n",
        "    similarity_scores = tf.matmul(\n",
        "        user_embedding, all_place_embeddings, transpose_b=True\n",
        "    )\n",
        "\n",
        "    # Dapatkan indeks tempat dengan nilai similarity tertinggi\n",
        "    top_indices = tf.argsort(tf.squeeze(similarity_scores), direction=\"DESCENDING\")[:k]\n",
        "\n",
        "    # Ambil nama tempat berdasarkan indeks\n",
        "    top_place_names = unique_place_names[top_indices].tolist()\n",
        "\n",
        "    return top_place_names\n",
        "\n",
        "\n",
        "# Contoh penggunaan: Mendapatkan rekomendasi tempat untuk pengguna dengan ID tertentu dan kategori yang dipilih\n",
        "user_id_to_recommend = \"74\"  # Ganti dengan ID pengguna yang ingin Anda rekomendasikan\n",
        "selected_category = \"Tempat Ibadah\"  # Ganti dengan kategori yang dipilih oleh pengguna\n",
        "recommendations = get_place_recommendations(user_id_to_recommend, selected_category)\n",
        "\n",
        "print(\n",
        "    f\"Rekomendasi Tempat untuk Pengguna dengan ID {user_id_to_recommend} dan Kategori {selected_category}:\"\n",
        ")\n",
        "for i, place_name in enumerate(recommendations, start=1):\n",
        "    print(f\"{i}. {place_name}\")"
      ],
      "metadata": {
        "colab": {
          "base_uri": "https://localhost:8080/"
        },
        "id": "mrYq49xpMJlo",
        "outputId": "c3a25a68-e782-4cb6-bc54-78ceaac7d3c3"
      },
      "execution_count": null,
      "outputs": [
        {
          "output_type": "stream",
          "name": "stdout",
          "text": [
            "Rekomendasi Tempat untuk Pengguna dengan ID 74 dan Kategori Tempat Ibadah:\n",
            "1. Masjid Raya Bandung\n",
            "2. Masjid Al-Imtizaj\n",
            "3. Masjid Muhammad Cheng Hoo\n",
            "4. Masjid Pusdai\n",
            "5. Masjid Istiqlal\n"
          ]
        }
      ]
    },
    {
      "cell_type": "code",
      "source": [
        "# model.save('model.h5')"
      ],
      "metadata": {
        "id": "y9kXIjxgCg7f"
      },
      "execution_count": null,
      "outputs": []
    }
  ]
}